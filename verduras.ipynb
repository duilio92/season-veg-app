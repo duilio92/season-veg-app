{
 "cells": [
  {
   "cell_type": "code",
   "execution_count": 1,
   "metadata": {},
   "outputs": [],
   "source": [
    "import pandas as pd \n",
    "import glob\n",
    "from datetime import datetime\n",
    "import numpy as np\n",
    "import matplotlib.pyplot as plt\n",
    "#data = pd.read_csv(\"./PM-Hortalizas-2019/PM-Hortaliza-Julio-2019/PM-Hortalizas-02-Julio-2019.csv\")\n",
    "#data['month']='Julio'"
   ]
  },
  {
   "cell_type": "code",
   "execution_count": 2,
   "metadata": {},
   "outputs": [],
   "source": [
    "import xlrd\n",
    "import csv\n",
    "from os import sys\n",
    "\n",
    "def csv_from_excel(excel_file, filename):\n",
    "    workbook = xlrd.open_workbook(excel_file, encoding_override='windows-1252')\n",
    "    all_worksheets = workbook.sheet_names()\n",
    "    for worksheet_name in all_worksheets:\n",
    "        worksheet = workbook.sheet_by_name(worksheet_name)\n",
    "        if worksheet.nrows == 0: continue\n",
    "        with open(filename, 'w+',newline='') as your_csv_file:\n",
    "            wr = csv.writer(your_csv_file, quoting=csv.QUOTE_ALL)\n",
    "            for rownum in range(worksheet.nrows):\n",
    "                wr.writerow([entry for entry in worksheet.row_values(rownum)])\n",
    "        your_csv_file.close() # save sheet of file\n",
    "\n",
    "def csv_from_excel_first_sheet(excel_file, filename):\n",
    "    #first function only gets last worksheet, lets return first worksheet instead\n",
    "    workbook = xlrd.open_workbook(excel_file)\n",
    "    all_worksheets = workbook.sheet_names()\n",
    "    for worksheet_name in all_worksheets:\n",
    "        worksheet = workbook.sheet_by_name(worksheet_name)\n",
    "        if worksheet.nrows == 0: continue\n",
    "        with open(filename, 'w+',newline='') as your_csv_file:\n",
    "            wr = csv.writer(your_csv_file, quoting=csv.QUOTE_ALL)\n",
    "            for rownum in range(worksheet.nrows):\n",
    "                wr.writerow([entry for entry in worksheet.row_values(rownum)])\n",
    "        your_csv_file.close()\n",
    "        break# save sheet of file"
   ]
  },
  {
   "cell_type": "code",
   "execution_count": 3,
   "metadata": {},
   "outputs": [],
   "source": [
    "\n",
    "\n",
    "csv_format = 'csv'\n",
    "original_format = 'XLS'\n",
    "\n",
    "# for day in days:\n",
    "#     filename = path.format(day, month, csv_format)\n",
    "#     if not os.path.isfile(filename):\n",
    "#         #if file does not exist as csv then create it from xls or print error\n",
    "#         orig_filename = path.format(day, month, original_format)\n",
    "#         if not os.path.isfile(orig_filename):\n",
    "#             print (\"error file not found for {}\".format(orig_filename))\n",
    "#             continue\n",
    "#         csv_from_excel(orig_filename)\n",
    "#     df = pd.read_csv(filename, index_col=None, header=0)\n",
    "#     df['fecha']= datetime. strptime(\"2019/{}/{}\".format(months[month], day),\"%Y/%m/%d\")\n",
    "#     li.append(df)\n",
    "\n",
    "# frame = pd.concat(li, axis=0, ignore_index=True)"
   ]
  },
  {
   "cell_type": "code",
   "execution_count": 4,
   "metadata": {},
   "outputs": [],
   "source": [
    "months = {\n",
    "    'Ene': '01',\n",
    "    'Feb': '02',\n",
    "    'Marzo': '03',\n",
    "    'Abril': '04',\n",
    "    'Mayo': '05',\n",
    "    'Junio': '06',\n",
    "    'Julio': '07',\n",
    "    'Agosto': '08',\n",
    "    'Sep': '09',\n",
    "    'Oct': '10',\n",
    "    'Nov': '11',\n",
    "    'Dic': '12'\n",
    "}\n",
    "def read_year():\n",
    "    li = []\n",
    "    for month in months:\n",
    "        li.extend(read_month(month, months))\n",
    "    return li\n"
   ]
  },
  {
   "cell_type": "code",
   "execution_count": 5,
   "metadata": {},
   "outputs": [],
   "source": [
    "days = [\"01\",\"02\",\"03\",\"04\",\"05\", \"06\", \"07\", \"08\", \"09\",\"10\",\"11\",\"12\",\"13\",\"14\",\"15\", \"16\", \"17\", \"18\", \"19\",\n",
    "            \"20\",\"21\",\"22\",\"23\",\"24\",\"25\",\"26\",\"27\",\"28\",\"29\",\"30\"]\n",
    "\n",
    "def read_month(month, months):    \n",
    "    path = \"./PM-Hortalizas-2019/PM-Hortalizas-{}-2019/PM-Hortalizas-{}-{}-2019.{}\"\n",
    "    li = []\n",
    "    for day in days:\n",
    "        filename = path.format(month, day, month, csv_format)\n",
    "        if not os.path.isfile(filename):\n",
    "            #if file does not exist as csv then create it from xls or print error\n",
    "            orig_filename = path.format(month, day, month, original_format)\n",
    "            if not os.path.isfile(orig_filename):\n",
    "                print (\"error file not found for {}\".format(orig_filename))\n",
    "                continue\n",
    "            csv_from_excel(orig_filename, filename)\n",
    "        df = pd.read_csv(filename, index_col=None, header=0)\n",
    "        df['fecha']= datetime. strptime(\"2019/{}/{}\".format(months[month], day),\"%Y/%m/%d\")\n",
    "        li.append(df)\n",
    "    return li"
   ]
  },
  {
   "cell_type": "code",
   "execution_count": 6,
   "metadata": {},
   "outputs": [
    {
     "name": "stdout",
     "output_type": "stream",
     "text": [
      "error file not found for ./PM-Hortalizas-2019/PM-Hortalizas-Ene-2019/PM-Hortalizas-01-Ene-2019.XLS\n",
      "error file not found for ./PM-Hortalizas-2019/PM-Hortalizas-Ene-2019/PM-Hortalizas-05-Ene-2019.XLS\n",
      "error file not found for ./PM-Hortalizas-2019/PM-Hortalizas-Ene-2019/PM-Hortalizas-06-Ene-2019.XLS\n",
      "error file not found for ./PM-Hortalizas-2019/PM-Hortalizas-Ene-2019/PM-Hortalizas-12-Ene-2019.XLS\n",
      "error file not found for ./PM-Hortalizas-2019/PM-Hortalizas-Ene-2019/PM-Hortalizas-13-Ene-2019.XLS\n",
      "error file not found for ./PM-Hortalizas-2019/PM-Hortalizas-Ene-2019/PM-Hortalizas-19-Ene-2019.XLS\n",
      "error file not found for ./PM-Hortalizas-2019/PM-Hortalizas-Ene-2019/PM-Hortalizas-20-Ene-2019.XLS\n",
      "error file not found for ./PM-Hortalizas-2019/PM-Hortalizas-Ene-2019/PM-Hortalizas-26-Ene-2019.XLS\n",
      "error file not found for ./PM-Hortalizas-2019/PM-Hortalizas-Ene-2019/PM-Hortalizas-27-Ene-2019.XLS\n",
      "error file not found for ./PM-Hortalizas-2019/PM-Hortalizas-Feb-2019/PM-Hortalizas-02-Feb-2019.XLS\n",
      "error file not found for ./PM-Hortalizas-2019/PM-Hortalizas-Feb-2019/PM-Hortalizas-03-Feb-2019.XLS\n",
      "error file not found for ./PM-Hortalizas-2019/PM-Hortalizas-Feb-2019/PM-Hortalizas-09-Feb-2019.XLS\n",
      "error file not found for ./PM-Hortalizas-2019/PM-Hortalizas-Feb-2019/PM-Hortalizas-10-Feb-2019.XLS\n",
      "error file not found for ./PM-Hortalizas-2019/PM-Hortalizas-Feb-2019/PM-Hortalizas-16-Feb-2019.XLS\n",
      "error file not found for ./PM-Hortalizas-2019/PM-Hortalizas-Feb-2019/PM-Hortalizas-17-Feb-2019.XLS\n",
      "error file not found for ./PM-Hortalizas-2019/PM-Hortalizas-Feb-2019/PM-Hortalizas-23-Feb-2019.XLS\n",
      "error file not found for ./PM-Hortalizas-2019/PM-Hortalizas-Feb-2019/PM-Hortalizas-24-Feb-2019.XLS\n",
      "error file not found for ./PM-Hortalizas-2019/PM-Hortalizas-Feb-2019/PM-Hortalizas-29-Feb-2019.XLS\n",
      "error file not found for ./PM-Hortalizas-2019/PM-Hortalizas-Feb-2019/PM-Hortalizas-30-Feb-2019.XLS\n",
      "error file not found for ./PM-Hortalizas-2019/PM-Hortalizas-Marzo-2019/PM-Hortalizas-02-Marzo-2019.XLS\n",
      "error file not found for ./PM-Hortalizas-2019/PM-Hortalizas-Marzo-2019/PM-Hortalizas-03-Marzo-2019.XLS\n",
      "error file not found for ./PM-Hortalizas-2019/PM-Hortalizas-Marzo-2019/PM-Hortalizas-04-Marzo-2019.XLS\n",
      "error file not found for ./PM-Hortalizas-2019/PM-Hortalizas-Marzo-2019/PM-Hortalizas-05-Marzo-2019.XLS\n",
      "error file not found for ./PM-Hortalizas-2019/PM-Hortalizas-Marzo-2019/PM-Hortalizas-09-Marzo-2019.XLS\n",
      "error file not found for ./PM-Hortalizas-2019/PM-Hortalizas-Marzo-2019/PM-Hortalizas-10-Marzo-2019.XLS\n",
      "error file not found for ./PM-Hortalizas-2019/PM-Hortalizas-Marzo-2019/PM-Hortalizas-16-Marzo-2019.XLS\n",
      "error file not found for ./PM-Hortalizas-2019/PM-Hortalizas-Marzo-2019/PM-Hortalizas-17-Marzo-2019.XLS\n",
      "error file not found for ./PM-Hortalizas-2019/PM-Hortalizas-Marzo-2019/PM-Hortalizas-23-Marzo-2019.XLS\n",
      "error file not found for ./PM-Hortalizas-2019/PM-Hortalizas-Marzo-2019/PM-Hortalizas-24-Marzo-2019.XLS\n",
      "error file not found for ./PM-Hortalizas-2019/PM-Hortalizas-Marzo-2019/PM-Hortalizas-30-Marzo-2019.XLS\n",
      "error file not found for ./PM-Hortalizas-2019/PM-Hortalizas-Abril-2019/PM-Hortalizas-02-Abril-2019.XLS\n",
      "error file not found for ./PM-Hortalizas-2019/PM-Hortalizas-Abril-2019/PM-Hortalizas-06-Abril-2019.XLS\n",
      "error file not found for ./PM-Hortalizas-2019/PM-Hortalizas-Abril-2019/PM-Hortalizas-07-Abril-2019.XLS\n",
      "error file not found for ./PM-Hortalizas-2019/PM-Hortalizas-Abril-2019/PM-Hortalizas-13-Abril-2019.XLS\n",
      "error file not found for ./PM-Hortalizas-2019/PM-Hortalizas-Abril-2019/PM-Hortalizas-14-Abril-2019.XLS\n",
      "error file not found for ./PM-Hortalizas-2019/PM-Hortalizas-Abril-2019/PM-Hortalizas-18-Abril-2019.XLS\n",
      "error file not found for ./PM-Hortalizas-2019/PM-Hortalizas-Abril-2019/PM-Hortalizas-19-Abril-2019.XLS\n",
      "error file not found for ./PM-Hortalizas-2019/PM-Hortalizas-Abril-2019/PM-Hortalizas-20-Abril-2019.XLS\n",
      "error file not found for ./PM-Hortalizas-2019/PM-Hortalizas-Abril-2019/PM-Hortalizas-21-Abril-2019.XLS\n",
      "error file not found for ./PM-Hortalizas-2019/PM-Hortalizas-Abril-2019/PM-Hortalizas-27-Abril-2019.XLS\n",
      "error file not found for ./PM-Hortalizas-2019/PM-Hortalizas-Abril-2019/PM-Hortalizas-28-Abril-2019.XLS\n",
      "error file not found for ./PM-Hortalizas-2019/PM-Hortalizas-Mayo-2019/PM-Hortalizas-01-Mayo-2019.XLS\n",
      "error file not found for ./PM-Hortalizas-2019/PM-Hortalizas-Mayo-2019/PM-Hortalizas-04-Mayo-2019.XLS\n",
      "error file not found for ./PM-Hortalizas-2019/PM-Hortalizas-Mayo-2019/PM-Hortalizas-05-Mayo-2019.XLS\n",
      "error file not found for ./PM-Hortalizas-2019/PM-Hortalizas-Mayo-2019/PM-Hortalizas-11-Mayo-2019.XLS\n",
      "error file not found for ./PM-Hortalizas-2019/PM-Hortalizas-Mayo-2019/PM-Hortalizas-12-Mayo-2019.XLS\n",
      "error file not found for ./PM-Hortalizas-2019/PM-Hortalizas-Mayo-2019/PM-Hortalizas-18-Mayo-2019.XLS\n",
      "error file not found for ./PM-Hortalizas-2019/PM-Hortalizas-Mayo-2019/PM-Hortalizas-19-Mayo-2019.XLS\n",
      "error file not found for ./PM-Hortalizas-2019/PM-Hortalizas-Mayo-2019/PM-Hortalizas-25-Mayo-2019.XLS\n",
      "error file not found for ./PM-Hortalizas-2019/PM-Hortalizas-Mayo-2019/PM-Hortalizas-26-Mayo-2019.XLS\n",
      "error file not found for ./PM-Hortalizas-2019/PM-Hortalizas-Junio-2019/PM-Hortalizas-01-Junio-2019.XLS\n",
      "error file not found for ./PM-Hortalizas-2019/PM-Hortalizas-Junio-2019/PM-Hortalizas-02-Junio-2019.XLS\n",
      "error file not found for ./PM-Hortalizas-2019/PM-Hortalizas-Junio-2019/PM-Hortalizas-08-Junio-2019.XLS\n",
      "error file not found for ./PM-Hortalizas-2019/PM-Hortalizas-Junio-2019/PM-Hortalizas-09-Junio-2019.XLS\n",
      "error file not found for ./PM-Hortalizas-2019/PM-Hortalizas-Junio-2019/PM-Hortalizas-15-Junio-2019.XLS\n",
      "error file not found for ./PM-Hortalizas-2019/PM-Hortalizas-Junio-2019/PM-Hortalizas-16-Junio-2019.XLS\n",
      "error file not found for ./PM-Hortalizas-2019/PM-Hortalizas-Junio-2019/PM-Hortalizas-17-Junio-2019.XLS\n",
      "error file not found for ./PM-Hortalizas-2019/PM-Hortalizas-Junio-2019/PM-Hortalizas-20-Junio-2019.XLS\n",
      "error file not found for ./PM-Hortalizas-2019/PM-Hortalizas-Junio-2019/PM-Hortalizas-22-Junio-2019.XLS\n",
      "error file not found for ./PM-Hortalizas-2019/PM-Hortalizas-Junio-2019/PM-Hortalizas-23-Junio-2019.XLS\n",
      "error file not found for ./PM-Hortalizas-2019/PM-Hortalizas-Junio-2019/PM-Hortalizas-27-Junio-2019.XLS\n",
      "error file not found for ./PM-Hortalizas-2019/PM-Hortalizas-Junio-2019/PM-Hortalizas-29-Junio-2019.XLS\n",
      "error file not found for ./PM-Hortalizas-2019/PM-Hortalizas-Junio-2019/PM-Hortalizas-30-Junio-2019.XLS\n",
      "error file not found for ./PM-Hortalizas-2019/PM-Hortalizas-Julio-2019/PM-Hortalizas-06-Julio-2019.XLS\n",
      "error file not found for ./PM-Hortalizas-2019/PM-Hortalizas-Julio-2019/PM-Hortalizas-07-Julio-2019.XLS\n",
      "error file not found for ./PM-Hortalizas-2019/PM-Hortalizas-Julio-2019/PM-Hortalizas-09-Julio-2019.XLS\n",
      "error file not found for ./PM-Hortalizas-2019/PM-Hortalizas-Julio-2019/PM-Hortalizas-13-Julio-2019.XLS\n",
      "error file not found for ./PM-Hortalizas-2019/PM-Hortalizas-Julio-2019/PM-Hortalizas-14-Julio-2019.XLS\n",
      "error file not found for ./PM-Hortalizas-2019/PM-Hortalizas-Julio-2019/PM-Hortalizas-20-Julio-2019.XLS\n",
      "error file not found for ./PM-Hortalizas-2019/PM-Hortalizas-Julio-2019/PM-Hortalizas-21-Julio-2019.XLS\n",
      "error file not found for ./PM-Hortalizas-2019/PM-Hortalizas-Julio-2019/PM-Hortalizas-27-Julio-2019.XLS\n",
      "error file not found for ./PM-Hortalizas-2019/PM-Hortalizas-Julio-2019/PM-Hortalizas-28-Julio-2019.XLS\n",
      "error file not found for ./PM-Hortalizas-2019/PM-Hortalizas-Agosto-2019/PM-Hortalizas-03-Agosto-2019.XLS\n",
      "error file not found for ./PM-Hortalizas-2019/PM-Hortalizas-Agosto-2019/PM-Hortalizas-04-Agosto-2019.XLS\n",
      "error file not found for ./PM-Hortalizas-2019/PM-Hortalizas-Agosto-2019/PM-Hortalizas-10-Agosto-2019.XLS\n",
      "error file not found for ./PM-Hortalizas-2019/PM-Hortalizas-Agosto-2019/PM-Hortalizas-11-Agosto-2019.XLS\n",
      "error file not found for ./PM-Hortalizas-2019/PM-Hortalizas-Agosto-2019/PM-Hortalizas-17-Agosto-2019.XLS\n",
      "error file not found for ./PM-Hortalizas-2019/PM-Hortalizas-Agosto-2019/PM-Hortalizas-18-Agosto-2019.XLS\n",
      "error file not found for ./PM-Hortalizas-2019/PM-Hortalizas-Agosto-2019/PM-Hortalizas-19-Agosto-2019.XLS\n",
      "error file not found for ./PM-Hortalizas-2019/PM-Hortalizas-Agosto-2019/PM-Hortalizas-24-Agosto-2019.XLS\n",
      "error file not found for ./PM-Hortalizas-2019/PM-Hortalizas-Agosto-2019/PM-Hortalizas-25-Agosto-2019.XLS\n",
      "error file not found for ./PM-Hortalizas-2019/PM-Hortalizas-Sep-2019/PM-Hortalizas-01-Sep-2019.XLS\n",
      "error file not found for ./PM-Hortalizas-2019/PM-Hortalizas-Sep-2019/PM-Hortalizas-07-Sep-2019.XLS\n",
      "error file not found for ./PM-Hortalizas-2019/PM-Hortalizas-Sep-2019/PM-Hortalizas-08-Sep-2019.XLS\n",
      "error file not found for ./PM-Hortalizas-2019/PM-Hortalizas-Sep-2019/PM-Hortalizas-14-Sep-2019.XLS\n",
      "error file not found for ./PM-Hortalizas-2019/PM-Hortalizas-Sep-2019/PM-Hortalizas-15-Sep-2019.XLS\n",
      "error file not found for ./PM-Hortalizas-2019/PM-Hortalizas-Sep-2019/PM-Hortalizas-21-Sep-2019.XLS\n",
      "error file not found for ./PM-Hortalizas-2019/PM-Hortalizas-Sep-2019/PM-Hortalizas-22-Sep-2019.XLS\n",
      "error file not found for ./PM-Hortalizas-2019/PM-Hortalizas-Sep-2019/PM-Hortalizas-28-Sep-2019.XLS\n",
      "error file not found for ./PM-Hortalizas-2019/PM-Hortalizas-Sep-2019/PM-Hortalizas-29-Sep-2019.XLS\n"
     ]
    },
    {
     "name": "stdout",
     "output_type": "stream",
     "text": [
      "error file not found for ./PM-Hortalizas-2019/PM-Hortalizas-Oct-2019/PM-Hortalizas-05-Oct-2019.XLS\n",
      "error file not found for ./PM-Hortalizas-2019/PM-Hortalizas-Oct-2019/PM-Hortalizas-06-Oct-2019.XLS\n",
      "error file not found for ./PM-Hortalizas-2019/PM-Hortalizas-Oct-2019/PM-Hortalizas-12-Oct-2019.XLS\n",
      "error file not found for ./PM-Hortalizas-2019/PM-Hortalizas-Oct-2019/PM-Hortalizas-13-Oct-2019.XLS\n",
      "error file not found for ./PM-Hortalizas-2019/PM-Hortalizas-Oct-2019/PM-Hortalizas-18-Oct-2019.XLS\n",
      "error file not found for ./PM-Hortalizas-2019/PM-Hortalizas-Oct-2019/PM-Hortalizas-19-Oct-2019.XLS\n",
      "error file not found for ./PM-Hortalizas-2019/PM-Hortalizas-Oct-2019/PM-Hortalizas-20-Oct-2019.XLS\n",
      "error file not found for ./PM-Hortalizas-2019/PM-Hortalizas-Oct-2019/PM-Hortalizas-26-Oct-2019.XLS\n",
      "error file not found for ./PM-Hortalizas-2019/PM-Hortalizas-Oct-2019/PM-Hortalizas-27-Oct-2019.XLS\n",
      "error file not found for ./PM-Hortalizas-2019/PM-Hortalizas-Nov-2019/PM-Hortalizas-02-Nov-2019.XLS\n",
      "error file not found for ./PM-Hortalizas-2019/PM-Hortalizas-Nov-2019/PM-Hortalizas-03-Nov-2019.XLS\n",
      "error file not found for ./PM-Hortalizas-2019/PM-Hortalizas-Nov-2019/PM-Hortalizas-09-Nov-2019.XLS\n",
      "error file not found for ./PM-Hortalizas-2019/PM-Hortalizas-Nov-2019/PM-Hortalizas-10-Nov-2019.XLS\n",
      "error file not found for ./PM-Hortalizas-2019/PM-Hortalizas-Nov-2019/PM-Hortalizas-16-Nov-2019.XLS\n",
      "error file not found for ./PM-Hortalizas-2019/PM-Hortalizas-Nov-2019/PM-Hortalizas-17-Nov-2019.XLS\n",
      "error file not found for ./PM-Hortalizas-2019/PM-Hortalizas-Nov-2019/PM-Hortalizas-23-Nov-2019.XLS\n",
      "error file not found for ./PM-Hortalizas-2019/PM-Hortalizas-Nov-2019/PM-Hortalizas-24-Nov-2019.XLS\n",
      "error file not found for ./PM-Hortalizas-2019/PM-Hortalizas-Nov-2019/PM-Hortalizas-30-Nov-2019.XLS\n",
      "error file not found for ./PM-Hortalizas-2019/PM-Hortalizas-Dic-2019/PM-Hortalizas-01-Dic-2019.XLS\n",
      "error file not found for ./PM-Hortalizas-2019/PM-Hortalizas-Dic-2019/PM-Hortalizas-07-Dic-2019.XLS\n",
      "error file not found for ./PM-Hortalizas-2019/PM-Hortalizas-Dic-2019/PM-Hortalizas-08-Dic-2019.XLS\n",
      "error file not found for ./PM-Hortalizas-2019/PM-Hortalizas-Dic-2019/PM-Hortalizas-14-Dic-2019.XLS\n",
      "error file not found for ./PM-Hortalizas-2019/PM-Hortalizas-Dic-2019/PM-Hortalizas-15-Dic-2019.XLS\n",
      "error file not found for ./PM-Hortalizas-2019/PM-Hortalizas-Dic-2019/PM-Hortalizas-21-Dic-2019.XLS\n",
      "error file not found for ./PM-Hortalizas-2019/PM-Hortalizas-Dic-2019/PM-Hortalizas-22-Dic-2019.XLS\n",
      "error file not found for ./PM-Hortalizas-2019/PM-Hortalizas-Dic-2019/PM-Hortalizas-24-Dic-2019.XLS\n",
      "error file not found for ./PM-Hortalizas-2019/PM-Hortalizas-Dic-2019/PM-Hortalizas-25-Dic-2019.XLS\n",
      "error file not found for ./PM-Hortalizas-2019/PM-Hortalizas-Dic-2019/PM-Hortalizas-28-Dic-2019.XLS\n",
      "error file not found for ./PM-Hortalizas-2019/PM-Hortalizas-Dic-2019/PM-Hortalizas-29-Dic-2019.XLS\n"
     ]
    }
   ],
   "source": [
    "li = read_year()\n",
    "frame = pd.concat(li, axis=0, ignore_index=True)"
   ]
  },
  {
   "cell_type": "code",
   "execution_count": 7,
   "metadata": {},
   "outputs": [],
   "source": [
    "\n",
    "# 4 try inflation fix.\n",
    "# 5 generate attribute with average price per month\n",
    "# 6 determine wether every price is in season or not( or some grade)\n",
    "\n",
    "\n",
    "# move file conversion to different file?\n",
    "#FIRST READ for a month and get average\n",
    "#TODO READ FROM ALL FILES FOR A YEAR AND GROUP DATA FOR EVERY VEGETABLE in a single data frame\n",
    "# TODO Graphic and see if it fits with the season concept."
   ]
  },
  {
   "cell_type": "code",
   "execution_count": 8,
   "metadata": {},
   "outputs": [],
   "source": [
    "#TODO I will have to check this later\n",
    "#read inflation file\n",
    "#inflation_csv = \"./PM-Hortalizas-2019/sh_ipc_aperturas.csv\"\n",
    "#inflation_path = \"./PM-Hortalizas-2019/sh_ipc_aperturas.xls\"\n",
    "#csv_from_excel_first_sheet(inflation_path, inflation_csv)\n",
    "#inflation_df = pd.read_csv(inflation_path, index_col=None, header=0,skiprows=4)\n",
    "#fix dates should not lost on conversion from xls to csv\n"
   ]
  },
  {
   "cell_type": "code",
   "execution_count": 9,
   "metadata": {},
   "outputs": [],
   "source": [
    "#inflation_df"
   ]
  },
  {
   "cell_type": "code",
   "execution_count": 10,
   "metadata": {},
   "outputs": [],
   "source": [
    "def frame_for_veg(frame, veg_name):\n",
    "    veg_frame = frame[frame['ESP'] == veg_name][['MOPK','MIPK','MAPK','fecha']]\n",
    "    veg_frame['MAPK'] = veg_frame.groupby('fecha')['MAPK'].transform('mean')\n",
    "    veg_frame['MOPK'] = veg_frame.groupby('fecha')['MOPK'].transform('mean')\n",
    "    veg_frame['MIPK'] = veg_frame.groupby('fecha')['MIPK'].transform('mean')\n",
    "    veg_frame.drop_duplicates(inplace=True)\n",
    "    return veg_frame"
   ]
  },
  {
   "cell_type": "code",
   "execution_count": 11,
   "metadata": {},
   "outputs": [],
   "source": [
    "#test with tomatos\n",
    "#tomatos = frame_for_veg(frame, 'TOMATE') \n",
    "# frame[frame['ESP']=='TOMATE'][['MOPK','fecha']]\n",
    "# tomatos['MOPK']= tomatos.groupby('fecha')['MOPK'].transform('mean')\n",
    "# tomatos.drop_duplicates(inplace=True)"
   ]
  },
  {
   "cell_type": "code",
   "execution_count": 12,
   "metadata": {},
   "outputs": [],
   "source": [
    "veg_names = ['ACELGA',\n",
    "'ACELGA',\n",
    "'ACELGA',\n",
    "'ACELGA',\n",
    "'ACHICORIA',\n",
    "'ACHICORIA',\n",
    "'ACUSAY',\n",
    "'ACUSAY',\n",
    "'AJO',\n",
    "'AJO',\n",
    "'AJO',\n",
    "'AJO',\n",
    "'AJO',\n",
    "'AJO',\n",
    "'AJO',\n",
    "'AJO',\n",
    "'AJO',\n",
    "'AJO',\n",
    "'ALBAHACA',\n",
    "'ALBAHACA',\n",
    "'ALCAUCIL',\n",
    "'ALCAUCIL',\n",
    "'APIO',\n",
    "'APIO',\n",
    "'APIO',\n",
    "'ARVEJA',\n",
    "'ARVEJA',\n",
    "'ARVEJA',\n",
    "'BATATA',\n",
    "'BATATA',\n",
    "'BATATA',\n",
    "'BATATA',\n",
    "'BERENJENA',\n",
    "'BERENJENA',\n",
    "'BERENJENA',\n",
    "'BERENJENA',\n",
    "'BERRO',\n",
    "'BERRO',\n",
    "'BROCOLI',\n",
    "'BROCOLI',\n",
    "'BROTE SOJA',\n",
    "'BROTE SOJA',\n",
    "'CARDO',\n",
    "'CARDO',\n",
    "'CEB.VERDEO',\n",
    "'CEB.VERDEO',\n",
    "'CEB.VERDEO',\n",
    "'CEB.VERDEO',\n",
    "'CEBOLLA',\n",
    "'CEBOLLA',\n",
    "'CEBOLLA',\n",
    "'CEBOLLA',\n",
    "'CEBOLLA',\n",
    "'CEBOLLA',\n",
    "'CEBOLLA',\n",
    "'CEBOLLA',\n",
    "'CHAUCHA',\n",
    "'CHAUCHA',\n",
    "'CHAUCHA',\n",
    "'CHAUCHA',\n",
    "'CHOCLO',\n",
    "'CHOCLO',\n",
    "'CHOCLO',\n",
    "'CIBOULLE',\n",
    "'CIBOULLE',\n",
    "'COLIFLOR',\n",
    "'COLIFLOR',\n",
    "'CURCUMA',\n",
    "'CURCUMA',\n",
    "'ESCAROLA',\n",
    "'ESCAROLA',\n",
    "'ESCAROLA',\n",
    "'ESPARRAGO',\n",
    "'ESPARRAGO',\n",
    "'ESPINACA',\n",
    "'ESPINACA',\n",
    "'HINOJO',\n",
    "'HINOJO',\n",
    "'HONGOS',\n",
    "'HONGOS',\n",
    "'HONGOS',\n",
    "'HONGOS',\n",
    "'JENGIBRE',\n",
    "'JENGIBRE',\n",
    "'KALE',\n",
    "'KALE',\n",
    "'LECHUGA',\n",
    "'LECHUGA',\n",
    "'LECHUGA',\n",
    "'LECHUGA',\n",
    "'LECHUGA',\n",
    "'LECHUGA',\n",
    "'LECHUGA',\n",
    "'LECHUGA',\n",
    "'LECHUGA',\n",
    "'LECHUGA',\n",
    "'LECHUGA',\n",
    "'LECHUGA',\n",
    "'LECHUGA',\n",
    "'MANDIOCA',\n",
    "'MANDIOCA',\n",
    "'MENTA',\n",
    "'MENTA',\n",
    "'OREGANO',\n",
    "'OREGANO',\n",
    "'PACK CHOY',\n",
    "'PACK CHOY',\n",
    "'PAPA',\n",
    "'PAPA',\n",
    "'PAPA',\n",
    "'PAPA',\n",
    "'PAPA',\n",
    "'PAPA',\n",
    "'PAPA',\n",
    "'PAPA',\n",
    "'PEPINO',\n",
    "'PEPINO',\n",
    "'PEPINO',\n",
    "'PEREJIL',\n",
    "'PEREJIL',\n",
    "'PIMIENTO',\n",
    "'PIMIENTO',\n",
    "'PIMIENTO',\n",
    "'PIMIENTO',\n",
    "'PIMIENTO',\n",
    "'PIMIENTO',\n",
    "'PIMIENTO',\n",
    "'PIMIENTO',\n",
    "'PIMIENTO',\n",
    "'PIMIENTO',\n",
    "'PIMIENTO',\n",
    "'PIMIENTO',\n",
    "'PIMIENTO',\n",
    "'PIMIENTO',\n",
    "'PIMIENTO',\n",
    "'PIMIENTO',\n",
    "'PUERRO',\n",
    "'PUERRO',\n",
    "'PUERRO',\n",
    "'RABANITO',\n",
    "'RABANITO',\n",
    "'RADICCHIO',\n",
    "'RADICCHIO',\n",
    "'RADICHETA',\n",
    "'RADICHETA',\n",
    "'RADICHETA',\n",
    "'REMOLACHA',\n",
    "'REMOLACHA',\n",
    "'REMOLACHA',\n",
    "'REP.BRUSEL',\n",
    "'REP.BRUSEL',\n",
    "'REPOLLO',\n",
    "'REPOLLO',\n",
    "'REPOLLO',\n",
    "'REPOLLO',\n",
    "'ROMERO',\n",
    "'ROMERO',\n",
    "'RUCULA',\n",
    "'RUCULA',\n",
    "'TOMATE',\n",
    "'TOMATE',\n",
    "'TOMATE',\n",
    "'TOMATE',\n",
    "'TOMATE',\n",
    "'TOMATE',\n",
    "'TOMATE',\n",
    "'TOMATE',\n",
    "'TOMATE',\n",
    "'TOMATE',\n",
    "'TOMATE',\n",
    "'TOMATE',\n",
    "'TOMATE',\n",
    "'TOMATE',\n",
    "'TOMATE',\n",
    "'TOMATE',\n",
    "'TOMATE',\n",
    "'TOMATE',\n",
    "'TOMATE',\n",
    "'TOMATE',\n",
    "'TOMATE',\n",
    "'TOMATE',\n",
    "'TOMATE',\n",
    "'TOMATE',\n",
    "'TOMATE',\n",
    "'TOMATE',\n",
    "'TOMATE',\n",
    "'TOMATE',\n",
    "'TOMILLO',\n",
    "'TOMILLO',\n",
    "'ZANAHORIA',\n",
    "'ZANAHORIA',\n",
    "'ZANAHORIA',\n",
    "'ZANAHORIA',\n",
    "'ZANAHORIA',\n",
    "'ZAPALLITO',\n",
    "'ZAPALLITO',\n",
    "'ZAPALLITO',\n",
    "'ZAPALLITO',\n",
    "'ZAPALLITO',\n",
    "'ZAPALLITO',\n",
    "'ZAPALLO',\n",
    "'ZAPALLO',\n",
    "'ZAPALLO',\n",
    "'ZAPALLO',\n",
    "'ZAPALLO',\n",
    "'ZAPALLO',\n",
    "'ZAPALLO',\n",
    "'ZAPALLO',\n",
    "'ZAPALLO']\n",
    "\n",
    "veg_names = list(dict.fromkeys(veg_names))\n"
   ]
  },
  {
   "cell_type": "code",
   "execution_count": 13,
   "metadata": {},
   "outputs": [],
   "source": [
    "def generate_in_season_attribute(df, range):\n",
    "    df = df.sort_values(by='MOPK')\n",
    "    in_season_dates = df['fecha'][:range]\n",
    "    df['in_season'] = df['fecha'].isin(in_season_dates)\n",
    "    return df\n"
   ]
  },
  {
   "cell_type": "code",
   "execution_count": 14,
   "metadata": {},
   "outputs": [],
   "source": [
    "plt.rcParams[\"figure.figsize\"] = (20,3)\n",
    "def show_date_plot(frame, name_attr):\n",
    "    print(name_attr)\n",
    "    ax = plt.subplot(111)\n",
    "    colors = ['r' if f else 'b' for f in frame['in_season']]\n",
    "    ax.bar(frame['fecha'],frame[name_attr], width=10,color=colors)\n",
    "    ax.xaxis_date()\n",
    "    plt.show()"
   ]
  },
  {
   "cell_type": "code",
   "execution_count": 15,
   "metadata": {},
   "outputs": [],
   "source": [
    "# correlation between MAPK MIPK and MOPK is quite high, close to 1."
   ]
  },
  {
   "cell_type": "code",
   "execution_count": 16,
   "metadata": {},
   "outputs": [
    {
     "name": "stdout",
     "output_type": "stream",
     "text": [
      "0.9910894724079339\n",
      "0.9905755568515062\n",
      "MODE: 7.9775\n",
      "MEAN: 11.803578838174273\n",
      "MEDIAN: 12.172500000000001\n",
      "ACELGA\n",
      "-\n",
      "MOPK\n"
     ]
    },
    {
     "data": {
      "image/png": "[encoded data removed]",
      "text/plain": [
       "<Figure size 1440x216 with 1 Axes>"
      ]
     },
     "metadata": {
      "needs_background": "light"
     },
     "output_type": "display_data"
    },
    {
     "name": "stdout",
     "output_type": "stream",
     "text": [
      "0.9515219100076105\n",
      "0.9464549645380465\n",
      "MODE: 12.5\n",
      "MEAN: 11.027636363636363\n",
      "MEDIAN: 11.0\n",
      "ACHICORIA\n",
      "-\n",
      "MOPK\n"
     ]
    },
    {
     "data": {
      "image/png": "[encoded data removed]",
      "text/plain": [
       "<Figure size 1440x216 with 1 Axes>"
      ]
     },
     "metadata": {
      "needs_background": "light"
     },
     "output_type": "display_data"
    },
    {
     "name": "stdout",
     "output_type": "stream",
     "text": [
      "0.9926993113453405\n",
      "0.9926789221789445\n",
      "MODE: 22.01\n",
      "MEAN: 14.210042918454938\n",
      "MEDIAN: 12.52\n",
      "ACUSAY\n",
      "-\n",
      "MOPK\n"
     ]
    },
    {
     "data": {
      "image/png": "[encoded data removed]",
      "text/plain": [
       "<Figure size 1440x216 with 1 Axes>"
      ]
     },
     "metadata": {
      "needs_background": "light"
     },
     "output_type": "display_data"
    },
    {
     "name": "stdout",
     "output_type": "stream",
     "text": [
      "0.9843715653714901\n",
      "0.9843383351318851\n",
      "MODE: 69.86285714285715\n",
      "MEAN: 96.7499648193616\n",
      "MEDIAN: 101.36944444444444\n",
      "AJO\n",
      "-\n",
      "MOPK\n"
     ]
    },
    {
     "data": {
      "image/png": "[encoded data removed]",
      "text/plain": [
       "<Figure size 1440x216 with 1 Axes>"
      ]
     },
     "metadata": {
      "needs_background": "light"
     },
     "output_type": "display_data"
    },
    {
     "name": "stdout",
     "output_type": "stream",
     "text": [
      "0.999593389020769\n",
      "0.9993421772046815\n",
      "MODE: 11.0\n",
      "MEAN: 13.846507246376811\n",
      "MEDIAN: 10.5\n",
      "ALBAHACA\n",
      "-\n",
      "MOPK\n"
     ]
    },
    {
     "data": {
      "image/png": "[encoded data removed]",
      "text/plain": [
       "<Figure size 1440x216 with 1 Axes>"
      ]
     },
     "metadata": {
      "needs_background": "light"
     },
     "output_type": "display_data"
    },
    {
     "name": "stdout",
     "output_type": "stream",
     "text": [
      "0.9184893441727979\n",
      "0.9135011380532148\n",
      "MODE: 31.88\n",
      "MEAN: 39.700426997245174\n",
      "MEDIAN: 37.81\n",
      "ALCAUCIL\n",
      "-\n",
      "MOPK\n"
     ]
    },
    {
     "data": {
      "image/png": "[encoded data removed]",
      "text/plain": [
       "<Figure size 1440x216 with 1 Axes>"
      ]
     },
     "metadata": {
      "needs_background": "light"
     },
     "output_type": "display_data"
    },
    {
     "name": "stdout",
     "output_type": "stream",
     "text": [
      "0.9879776911081567\n",
      "0.9783168888971658\n",
      "MODE: 40.3\n",
      "MEAN: 29.568118948824342\n",
      "MEDIAN: 28.346666666666664\n",
      "APIO\n",
      "-\n",
      "MOPK\n"
     ]
    },
    {
     "data": {
      "image/png": "[encoded data removed]",
      "text/plain": [
       "<Figure size 1440x216 with 1 Axes>"
      ]
     },
     "metadata": {
      "needs_background": "light"
     },
     "output_type": "display_data"
    },
    {
     "name": "stdout",
     "output_type": "stream",
     "text": [
      "0.913659372387769\n",
      "0.9281301641656988\n",
      "MODE: 34.66\n",
      "MEAN: 37.39603886397608\n",
      "MEDIAN: 34.0\n",
      "ARVEJA\n",
      "-\n",
      "MOPK\n"
     ]
    },
    {
     "data": {
      "image/png": "[encoded data removed]",
      "text/plain": [
       "<Figure size 1440x216 with 1 Axes>"
      ]
     },
     "metadata": {
      "needs_background": "light"
     },
     "output_type": "display_data"
    },
    {
     "name": "stdout",
     "output_type": "stream",
     "text": [
      "0.9458501637430616\n",
      "0.9498294995604201\n",
      "MODE: 15.469999999999999\n",
      "MEAN: 19.923023513139693\n",
      "MEDIAN: 18.9625\n",
      "BATATA\n",
      "-\n",
      "MOPK\n"
     ]
    },
    {
     "data": {
      "image/png": "[encoded data removed]",
      "text/plain": [
       "<Figure size 1440x216 with 1 Axes>"
      ]
     },
     "metadata": {
      "needs_background": "light"
     },
     "output_type": "display_data"
    },
    {
     "name": "stdout",
     "output_type": "stream",
     "text": [
      "0.9827054831022836\n",
      "0.9772720863185588\n",
      "MODE: 9.016666666666667\n",
      "MEAN: 27.564172890733058\n",
      "MEDIAN: 24.80666666666667\n",
      "BERENJENA\n",
      "-\n",
      "MOPK\n"
     ]
    },
    {
     "data": {
      "image/png": "[encoded data removed]",
      "text/plain": [
       "<Figure size 1440x216 with 1 Axes>"
      ]
     },
     "metadata": {
      "needs_background": "light"
     },
     "output_type": "display_data"
    },
    {
     "name": "stdout",
     "output_type": "stream",
     "text": [
      "0.9426218655159542\n",
      "0.9467085158053874\n",
      "MODE: 22.01\n",
      "MEAN: 24.92546296296296\n",
      "MEDIAN: 23.259999999999998\n",
      "BERRO\n",
      "-\n",
      "MOPK\n"
     ]
    },
    {
     "data": {
      "image/png": "[encoded data removed]",
      "text/plain": [
       "<Figure size 1440x216 with 1 Axes>"
      ]
     },
     "metadata": {
      "needs_background": "light"
     },
     "output_type": "display_data"
    },
    {
     "name": "stdout",
     "output_type": "stream",
     "text": [
      "0.9633968194873933\n",
      "0.9579823588910812\n",
      "MODE: 19.31\n",
      "MEAN: 33.335\n",
      "MEDIAN: 31.025\n",
      "BROCOLI\n",
      "-\n",
      "MOPK\n"
     ]
    },
    {
     "data": {
      "image/png": "[encoded data removed]",
      "text/plain": [
       "<Figure size 1440x216 with 1 Axes>"
      ]
     },
     "metadata": {
      "needs_background": "light"
     },
     "output_type": "display_data"
    },
    {
     "name": "stdout",
     "output_type": "stream",
     "text": [
      "0.9879446941000071\n",
      "0.979144097770761\n",
      "MODE: 85.0\n",
      "MEAN: 75.2447767857143\n",
      "MEDIAN: 76.775\n",
      "BROTE SOJA\n",
      "-\n",
      "MOPK\n"
     ]
    },
    {
     "data": {
      "image/png": "[encoded data removed]",
      "text/plain": [
       "<Figure size 1440x216 with 1 Axes>"
      ]
     },
     "metadata": {
      "needs_background": "light"
     },
     "output_type": "display_data"
    },
    {
     "name": "stdout",
     "output_type": "stream",
     "text": [
      "0.9531036543384767\n",
      "0.9050272181687029\n",
      "MODE: 15.28\n",
      "MEAN: 16.658490566037738\n",
      "MEDIAN: 16.05\n",
      "CARDO\n",
      "-\n",
      "MOPK\n"
     ]
    },
    {
     "data": {
      "image/png": "[encoded data removed]",
      "text/plain": [
       "<Figure size 1440x216 with 1 Axes>"
      ]
     },
     "metadata": {
      "needs_background": "light"
     },
     "output_type": "display_data"
    },
    {
     "name": "stdout",
     "output_type": "stream",
     "text": [
      "0.9929163062552455\n",
      "0.9797968113318484\n",
      "MODE: 34.56666666666666\n",
      "MEAN: 37.42087482710926\n",
      "MEDIAN: 32.6875\n",
      "CEB.VERDEO\n",
      "-\n",
      "MOPK\n"
     ]
    },
    {
     "data": {
      "image/png": "[encoded data removed]",
      "text/plain": [
       "<Figure size 1440x216 with 1 Axes>"
      ]
     },
     "metadata": {
      "needs_background": "light"
     },
     "output_type": "display_data"
    },
    {
     "name": "stdout",
     "output_type": "stream",
     "text": [
      "0.99774421655443\n",
      "0.9946894140193422\n",
      "MODE: 11.76\n",
      "MEAN: 17.27338042547586\n",
      "MEDIAN: 13.272\n",
      "CEBOLLA\n",
      "-\n",
      "MOPK\n"
     ]
    },
    {
     "data": {
      "image/png": "[encoded data removed]",
      "text/plain": [
       "<Figure size 1440x216 with 1 Axes>"
      ]
     },
     "metadata": {
      "needs_background": "light"
     },
     "output_type": "display_data"
    },
    {
     "name": "stdout",
     "output_type": "stream",
     "text": [
      "0.9865827849900797\n",
      "0.9855126617964591\n",
      "MODE: 17.2325\n",
      "MEAN: 45.08663819444444\n",
      "MEDIAN: 41.63\n",
      "CHAUCHA\n",
      "-\n",
      "MOPK\n"
     ]
    },
    {
     "data": {
      "image/png": "[encoded data removed]",
      "text/plain": [
       "<Figure size 1440x216 with 1 Axes>"
      ]
     },
     "metadata": {
      "needs_background": "light"
     },
     "output_type": "display_data"
    },
    {
     "name": "stdout",
     "output_type": "stream",
     "text": [
      "0.9842060121136716\n",
      "0.9831851547195946\n",
      "MODE: 15.219999999999999\n",
      "MEAN: 29.891438450899035\n",
      "MEDIAN: 22.33\n",
      "CHOCLO\n",
      "-\n",
      "MOPK\n"
     ]
    },
    {
     "data": {
      "image/png": "[encoded data removed]",
      "text/plain": [
       "<Figure size 1440x216 with 1 Axes>"
      ]
     },
     "metadata": {
      "needs_background": "light"
     },
     "output_type": "display_data"
    },
    {
     "name": "stdout",
     "output_type": "stream",
     "text": [
      "0.9539230696397012\n",
      "0.9801421747523292\n",
      "MODE: 120.0\n",
      "MEAN: 137.1786842105263\n",
      "MEDIAN: 131.1\n",
      "CIBOULLE\n",
      "-\n",
      "MOPK\n"
     ]
    },
    {
     "data": {
      "image/png": "[encoded data removed]",
      "text/plain": [
       "<Figure size 1440x216 with 1 Axes>"
      ]
     },
     "metadata": {
      "needs_background": "light"
     },
     "output_type": "display_data"
    },
    {
     "name": "stdout",
     "output_type": "stream",
     "text": [
      "0.9280385807406089\n",
      "0.9212852162744881\n",
      "MODE: 14.0\n",
      "MEAN: 14.191390168970814\n",
      "MEDIAN: 14.57\n",
      "COLIFLOR\n",
      "-\n",
      "MOPK\n"
     ]
    },
    {
     "data": {
      "image/png": "[encoded data removed]",
      "text/plain": [
       "<Figure size 1440x216 with 1 Axes>"
      ]
     },
     "metadata": {
      "needs_background": "light"
     },
     "output_type": "display_data"
    },
    {
     "name": "stdout",
     "output_type": "stream",
     "text": [
      "0.9475008454189346\n",
      "0.9221354472810497\n",
      "MODE: 45.0\n",
      "MEAN: 52.29570833333334\n",
      "MEDIAN: 51.125\n",
      "CURCUMA\n",
      "-\n",
      "MOPK\n"
     ]
    },
    {
     "data": {
      "image/png": "[encoded data removed]",
      "text/plain": [
       "<Figure size 1440x216 with 1 Axes>"
      ]
     },
     "metadata": {
      "needs_background": "light"
     },
     "output_type": "display_data"
    },
    {
     "name": "stdout",
     "output_type": "stream",
     "text": [
      "0.9468997157207655\n",
      "0.9176775306987344\n",
      "MODE: 20.44\n",
      "MEAN: 20.080580357142853\n",
      "MEDIAN: 20.503333333333337\n",
      "ESCAROLA\n",
      "-\n",
      "MOPK\n"
     ]
    },
    {
     "data": {
      "image/png": "[encoded data removed]",
      "text/plain": [
       "<Figure size 1440x216 with 1 Axes>"
      ]
     },
     "metadata": {
      "needs_background": "light"
     },
     "output_type": "display_data"
    },
    {
     "name": "stdout",
     "output_type": "stream",
     "text": [
      "0.965260503641766\n",
      "0.8676334242650946\n",
      "MODE: 290.0\n",
      "MEAN: 110.39518000000002\n",
      "MEDIAN: 52.0\n",
      "ESPARRAGO\n",
      "-\n",
      "MOPK\n"
     ]
    },
    {
     "data": {
      "image/png": "[encoded data removed]",
      "text/plain": [
       "<Figure size 1440x216 with 1 Axes>"
      ]
     },
     "metadata": {
      "needs_background": "light"
     },
     "output_type": "display_data"
    },
    {
     "name": "stdout",
     "output_type": "stream",
     "text": [
      "0.9508901785410583\n",
      "0.9610284123709505\n",
      "MODE: 16.22\n",
      "MEAN: 37.3927939142462\n",
      "MEDIAN: 37.6\n",
      "ESPINACA\n",
      "-\n",
      "MOPK\n"
     ]
    },
    {
     "data": {
      "image/png": "[encoded data removed]",
      "text/plain": [
       "<Figure size 1440x216 with 1 Axes>"
      ]
     },
     "metadata": {
      "needs_background": "light"
     },
     "output_type": "display_data"
    },
    {
     "name": "stdout",
     "output_type": "stream",
     "text": [
      "0.9670194309888864\n",
      "0.9594377595698887\n",
      "MODE: 10.34\n",
      "MEAN: 10.493583333333333\n",
      "MEDIAN: 10.4\n",
      "HINOJO\n",
      "-\n",
      "MOPK\n"
     ]
    },
    {
     "data": {
      "image/png": "[encoded data removed]",
      "text/plain": [
       "<Figure size 1440x216 with 1 Axes>"
      ]
     },
     "metadata": {
      "needs_background": "light"
     },
     "output_type": "display_data"
    },
    {
     "name": "stdout",
     "output_type": "stream",
     "text": [
      "0.9792012318207565\n",
      "0.9838094739568188\n",
      "MODE: 246.4175\n",
      "MEAN: 266.26857192254494\n",
      "MEDIAN: 266.18\n",
      "HONGOS\n",
      "-\n",
      "MOPK\n"
     ]
    },
    {
     "data": {
      "image/png": "[encoded data removed]",
      "text/plain": [
       "<Figure size 1440x216 with 1 Axes>"
      ]
     },
     "metadata": {
      "needs_background": "light"
     },
     "output_type": "display_data"
    },
    {
     "name": "stdout",
     "output_type": "stream",
     "text": [
      "0.9464997523652589\n",
      "0.9571021480389238\n",
      "MODE: 95.0\n",
      "MEAN: 84.77861687413555\n",
      "MEDIAN: 80.2\n",
      "JENGIBRE\n",
      "-\n",
      "MOPK\n"
     ]
    },
    {
     "data": {
      "image/png": "[encoded data removed]",
      "text/plain": [
       "<Figure size 1440x216 with 1 Axes>"
      ]
     },
     "metadata": {
      "needs_background": "light"
     },
     "output_type": "display_data"
    },
    {
     "name": "stdout",
     "output_type": "stream",
     "text": [
      "0.9794430197812285\n",
      "0.9610885210980661\n",
      "MODE: 55.0\n",
      "MEAN: 63.26182608695651\n",
      "MEDIAN: 56.4\n",
      "KALE\n",
      "-\n",
      "MOPK\n"
     ]
    },
    {
     "data": {
      "image/png": "[encoded data removed]",
      "text/plain": [
       "<Figure size 1440x216 with 1 Axes>"
      ]
     },
     "metadata": {
      "needs_background": "light"
     },
     "output_type": "display_data"
    },
    {
     "name": "stdout",
     "output_type": "stream",
     "text": [
      "0.9989194522448698\n",
      "0.99863954049063\n",
      "MODE: 12.807999999999998\n",
      "MEAN: 26.060146219502027\n",
      "MEDIAN: 24.02\n",
      "LECHUGA\n",
      "-\n",
      "MOPK\n"
     ]
    },
    {
     "data": {
      "image/png": "[encoded data removed]",
      "text/plain": [
       "<Figure size 1440x216 with 1 Axes>"
      ]
     },
     "metadata": {
      "needs_background": "light"
     },
     "output_type": "display_data"
    },
    {
     "name": "stdout",
     "output_type": "stream",
     "text": [
      "0.986989607218562\n",
      "0.9883568007732483\n",
      "MODE: 10.5\n",
      "MEAN: 12.563419540229884\n",
      "MEDIAN: 10.969999999999999\n",
      "MANDIOCA\n",
      "-\n",
      "MOPK\n"
     ]
    },
    {
     "data": {
      "image/png": "[encoded data removed]",
      "text/plain": [
       "<Figure size 1440x216 with 1 Axes>"
      ]
     },
     "metadata": {
      "needs_background": "light"
     },
     "output_type": "display_data"
    },
    {
     "name": "stdout",
     "output_type": "stream",
     "text": [
      "0.9857685282889849\n",
      "0.9797906549517413\n",
      "MODE: 115.0\n",
      "MEAN: 125.78106060606062\n",
      "MEDIAN: 124.69\n",
      "MENTA\n",
      "-\n",
      "MOPK\n"
     ]
    },
    {
     "data": {
      "image/png": "[encoded data removed]",
      "text/plain": [
       "<Figure size 1440x216 with 1 Axes>"
      ]
     },
     "metadata": {
      "needs_background": "light"
     },
     "output_type": "display_data"
    },
    {
     "name": "stdout",
     "output_type": "stream",
     "text": [
      "0.9888658309884165\n",
      "0.9907693801779138\n",
      "MODE: 111.0\n",
      "MEAN: 134.6539075630252\n",
      "MEDIAN: 130.0\n",
      "OREGANO\n",
      "-\n",
      "MOPK\n"
     ]
    },
    {
     "data": {
      "image/png": "[encoded data removed]",
      "text/plain": [
       "<Figure size 1440x216 with 1 Axes>"
      ]
     },
     "metadata": {
      "needs_background": "light"
     },
     "output_type": "display_data"
    },
    {
     "name": "stdout",
     "output_type": "stream",
     "text": [
      "0.7926968630422321\n",
      "0.8281968201510059\n",
      "MODE: 35.0\n",
      "MEAN: 35.04160714285714\n",
      "MEDIAN: 35.04\n",
      "PACK CHOY\n",
      "-\n",
      "MOPK\n"
     ]
    },
    {
     "data": {
      "image/png": "[encoded data removed]",
      "text/plain": [
       "<Figure size 1440x216 with 1 Axes>"
      ]
     },
     "metadata": {
      "needs_background": "light"
     },
     "output_type": "display_data"
    },
    {
     "name": "stdout",
     "output_type": "stream",
     "text": [
      "0.9876349025558029\n",
      "0.9907002058698586\n",
      "MODE: 6.5\n",
      "MEAN: 11.318307218599749\n",
      "MEDIAN: 11.3\n",
      "PAPA\n",
      "-\n",
      "MOPK\n"
     ]
    },
    {
     "data": {
      "image/png": "[encoded data removed]",
      "text/plain": [
       "<Figure size 1440x216 with 1 Axes>"
      ]
     },
     "metadata": {
      "needs_background": "light"
     },
     "output_type": "display_data"
    },
    {
     "name": "stdout",
     "output_type": "stream",
     "text": [
      "0.9740453146909183\n",
      "0.9774919126632863\n",
      "MODE: 11.7975\n",
      "MEAN: 22.002536805555557\n",
      "MEDIAN: 20.7\n",
      "PEPINO\n",
      "-\n",
      "MOPK\n"
     ]
    },
    {
     "data": {
      "image/png": "[encoded data removed]",
      "text/plain": [
       "<Figure size 1440x216 with 1 Axes>"
      ]
     },
     "metadata": {
      "needs_background": "light"
     },
     "output_type": "display_data"
    },
    {
     "name": "stdout",
     "output_type": "stream",
     "text": [
      "0.9794026785882172\n",
      "0.9691430469437337\n",
      "MODE: 29.81\n",
      "MEAN: 31.868567375886524\n",
      "MEDIAN: 29.65\n",
      "PEREJIL\n",
      "-\n",
      "MOPK\n"
     ]
    },
    {
     "data": {
      "image/png": "[encoded data removed]",
      "text/plain": [
       "<Figure size 1440x216 with 1 Axes>"
      ]
     },
     "metadata": {
      "needs_background": "light"
     },
     "output_type": "display_data"
    },
    {
     "name": "stdout",
     "output_type": "stream",
     "text": [
      "0.996917414872588\n",
      "0.9972630950554754\n",
      "MODE: 27.3825\n",
      "MEAN: 50.414062122352064\n",
      "MEDIAN: 47.13833333333334\n",
      "PIMIENTO\n",
      "-\n",
      "MOPK\n"
     ]
    },
    {
     "data": {
      "image/png": "[encoded data removed]",
      "text/plain": [
       "<Figure size 1440x216 with 1 Axes>"
      ]
     },
     "metadata": {
      "needs_background": "light"
     },
     "output_type": "display_data"
    },
    {
     "name": "stdout",
     "output_type": "stream",
     "text": [
      "0.9906893801063528\n",
      "0.9857020330646872\n",
      "MODE: 30.04\n",
      "MEAN: 34.28691562932227\n",
      "MEDIAN: 32.20666666666667\n",
      "PUERRO\n",
      "-\n",
      "MOPK\n"
     ]
    },
    {
     "data": {
      "image/png": "[encoded data removed]",
      "text/plain": [
       "<Figure size 1440x216 with 1 Axes>"
      ]
     },
     "metadata": {
      "needs_background": "light"
     },
     "output_type": "display_data"
    },
    {
     "name": "stdout",
     "output_type": "stream",
     "text": [
      "0.9392991930617705\n",
      "0.9357203785569012\n",
      "MODE: 22.0\n",
      "MEAN: 25.34412844036697\n",
      "MEDIAN: 25.145\n",
      "RABANITO\n",
      "-\n",
      "MOPK\n"
     ]
    },
    {
     "data": {
      "image/png": "[encoded data removed]",
      "text/plain": [
       "<Figure size 1440x216 with 1 Axes>"
      ]
     },
     "metadata": {
      "needs_background": "light"
     },
     "output_type": "display_data"
    },
    {
     "name": "stdout",
     "output_type": "stream",
     "text": [
      "0.975883887471326\n",
      "0.9757592603461781\n",
      "MODE: 60.0\n",
      "MEAN: 81.27969162995593\n",
      "MEDIAN: 90.02\n",
      "RADICCHIO\n",
      "-\n",
      "MOPK\n"
     ]
    },
    {
     "data": {
      "image/png": "[encoded data removed]",
      "text/plain": [
       "<Figure size 1440x216 with 1 Axes>"
      ]
     },
     "metadata": {
      "needs_background": "light"
     },
     "output_type": "display_data"
    },
    {
     "name": "stdout",
     "output_type": "stream",
     "text": [
      "0.9933302637243232\n",
      "0.9946560120139825\n",
      "MODE: 24.23\n",
      "MEAN: 31.154246196403875\n",
      "MEDIAN: 27.596666666666664\n",
      "RADICHETA\n",
      "-\n",
      "MOPK\n"
     ]
    },
    {
     "data": {
      "image/png": "[encoded data removed]",
      "text/plain": [
       "<Figure size 1440x216 with 1 Axes>"
      ]
     },
     "metadata": {
      "needs_background": "light"
     },
     "output_type": "display_data"
    },
    {
     "name": "stdout",
     "output_type": "stream",
     "text": [
      "0.9812304995863793\n",
      "0.9797432071425736\n",
      "MODE: 6.37\n",
      "MEAN: 10.090477178423237\n",
      "MEDIAN: 8.806666666666667\n",
      "REMOLACHA\n",
      "-\n",
      "MOPK\n"
     ]
    },
    {
     "data": {
      "image/png": "[encoded data removed]",
      "text/plain": [
       "<Figure size 1440x216 with 1 Axes>"
      ]
     },
     "metadata": {
      "needs_background": "light"
     },
     "output_type": "display_data"
    },
    {
     "name": "stdout",
     "output_type": "stream",
     "text": [
      "0.9831514022180936\n",
      "0.9696370275168438\n",
      "MODE: 85.0\n",
      "MEAN: 72.23357142857144\n",
      "MEDIAN: 64.19\n",
      "REP.BRUSEL\n",
      "-\n",
      "MOPK\n"
     ]
    },
    {
     "data": {
      "image/png": "[encoded data removed]",
      "text/plain": [
       "<Figure size 1440x216 with 1 Axes>"
      ]
     },
     "metadata": {
      "needs_background": "light"
     },
     "output_type": "display_data"
    },
    {
     "name": "stdout",
     "output_type": "stream",
     "text": [
      "0.9438905329054552\n",
      "0.9523097689260407\n",
      "MODE: 6.68\n",
      "MEAN: 8.516013139695712\n",
      "MEDIAN: 8.646666666666667\n",
      "REPOLLO\n",
      "-\n",
      "MOPK\n"
     ]
    },
    {
     "data": {
      "image/png": "[encoded data removed]",
      "text/plain": [
       "<Figure size 1440x216 with 1 Axes>"
      ]
     },
     "metadata": {
      "needs_background": "light"
     },
     "output_type": "display_data"
    },
    {
     "name": "stdout",
     "output_type": "stream",
     "text": [
      "0.981789003112042\n",
      "0.9882852362488668\n",
      "MODE: 115.0\n",
      "MEAN: 134.04537815126048\n",
      "MEDIAN: 129.57\n",
      "ROMERO\n",
      "-\n",
      "MOPK\n"
     ]
    },
    {
     "data": {
      "image/png": "[encoded data removed]",
      "text/plain": [
       "<Figure size 1440x216 with 1 Axes>"
      ]
     },
     "metadata": {
      "needs_background": "light"
     },
     "output_type": "display_data"
    },
    {
     "name": "stdout",
     "output_type": "stream",
     "text": [
      "0.9888273862353203\n",
      "0.9929395145499611\n",
      "MODE: 55.0\n",
      "MEAN: 83.60502092050208\n",
      "MEDIAN: 83.73\n",
      "RUCULA\n",
      "-\n",
      "MOPK\n"
     ]
    },
    {
     "data": {
      "image/png": "[encoded data removed]",
      "text/plain": [
       "<Figure size 1440x216 with 1 Axes>"
      ]
     },
     "metadata": {
      "needs_background": "light"
     },
     "output_type": "display_data"
    },
    {
     "name": "stdout",
     "output_type": "stream",
     "text": [
      "0.9962627996740172\n",
      "0.9955040869652636\n",
      "MODE: 20.5216\n",
      "MEAN: 29.5126707216973\n",
      "MEDIAN: 29.58185185185186\n",
      "TOMATE\n",
      "-\n",
      "MOPK\n"
     ]
    },
    {
     "data": {
      "image/png": "[encoded data removed]",
      "text/plain": [
       "<Figure size 1440x216 with 1 Axes>"
      ]
     },
     "metadata": {
      "needs_background": "light"
     },
     "output_type": "display_data"
    },
    {
     "name": "stdout",
     "output_type": "stream",
     "text": [
      "0.9438234240830038\n",
      "0.9821627030118584\n",
      "MODE: 115.0\n",
      "MEAN: 136.60168067226888\n",
      "MEDIAN: 132.0\n",
      "TOMILLO\n",
      "-\n",
      "MOPK\n"
     ]
    },
    {
     "data": {
      "image/png": "[encoded data removed]",
      "text/plain": [
       "<Figure size 1440x216 with 1 Axes>"
      ]
     },
     "metadata": {
      "needs_background": "light"
     },
     "output_type": "display_data"
    },
    {
     "name": "stdout",
     "output_type": "stream",
     "text": [
      "0.9836809862852983\n",
      "0.9849950896065062\n",
      "MODE: 10.462\n",
      "MEAN: 13.2594495653033\n",
      "MEDIAN: 11.681428571428572\n",
      "ZANAHORIA\n",
      "-\n",
      "MOPK\n"
     ]
    },
    {
     "data": {
      "image/png": "[encoded data removed]",
      "text/plain": [
       "<Figure size 1440x216 with 1 Axes>"
      ]
     },
     "metadata": {
      "needs_background": "light"
     },
     "output_type": "display_data"
    },
    {
     "name": "stdout",
     "output_type": "stream",
     "text": [
      "0.9799725684681366\n",
      "0.9776892373604138\n",
      "MODE: 6.357142857142856\n",
      "MEAN: 18.627667877650243\n",
      "MEDIAN: 17.182499999999997\n",
      "ZAPALLITO\n",
      "-\n",
      "MOPK\n"
     ]
    },
    {
     "data": {
      "image/png": "[encoded data removed]",
      "text/plain": [
       "<Figure size 1440x216 with 1 Axes>"
      ]
     },
     "metadata": {
      "needs_background": "light"
     },
     "output_type": "display_data"
    },
    {
     "name": "stdout",
     "output_type": "stream",
     "text": [
      "0.9875850600967755\n",
      "0.9888928304800982\n",
      "MODE: 10.6075\n",
      "MEAN: 18.02146276844071\n",
      "MEDIAN: 14.661666666666667\n",
      "ZAPALLO\n",
      "-\n",
      "MOPK\n"
     ]
    },
    {
     "data": {
      "image/png": "[encoded data removed]",
      "text/plain": [
       "<Figure size 1440x216 with 1 Axes>"
      ]
     },
     "metadata": {
      "needs_background": "light"
     },
     "output_type": "display_data"
    }
   ],
   "source": [
    "procesed_frame = None\n",
    "for veg in veg_names:\n",
    "    frame_for_one = frame_for_veg(frame, veg)\n",
    "    print(frame_for_one['MAPK'].corr(frame_for_one['MOPK']))\n",
    "    print(frame_for_one['MIPK'].corr(frame_for_one['MOPK']))\n",
    "    print(\"MODE: {}\".format(frame_for_one['MOPK'].mode()[0]))\n",
    "    print(\"MEAN: {}\".format(frame_for_one['MOPK'].mean()))\n",
    "    print(\"MEDIAN: {}\".format(frame_for_one['MOPK'].median()))\n",
    "    print(veg)\n",
    "    print('-')\n",
    "    \n",
    "    frame_for_one = generate_in_season_attribute(frame_for_one,90)\n",
    "    diff_from_avg = frame_for_one['MOPK'] - frame_for_one['MOPK'].apply('mean')\n",
    "    frame_for_one = frame_for_one.assign(MOPK_diff=diff_from_avg)\n",
    "    frame_for_one['veg_name'] = veg\n",
    "    show_date_plot(frame_for_one,'MOPK')\n",
    "    #show_date_plot(frame_for_one,'MIPK')\n",
    "    #show_date_plot(frame_for_one,'MAPK')\n",
    "    \n",
    "    if procesed_frame is not None:\n",
    "        procesed_frame = pd.concat([procesed_frame, frame_for_one])\n",
    "    else:\n",
    "        procesed_frame = frame_for_one\n",
    "    "
   ]
  },
  {
   "cell_type": "code",
   "execution_count": 17,
   "metadata": {},
   "outputs": [],
   "source": [
    "#TODO 0:quitar los que tienen 0 y quedarme con las 90 primeras fechas en una lista --listo\n",
    "#TODO 0.1: fix January is missing, on processed data, finish vegetables per day. \n",
    "#TODO 1: get all vegetables in season for any date(check how many there are for a given date).\n",
    "#TODO 1.2: get rank of every vegetable, distance to its mean for every date.\n",
    "#TODO 2. check if the cut is sort of correct, in season/out_season\n",
    "#TODO 3. or something a bit more complex using that and variance getting some months with season for each vegetable?\n",
    "#TODO 0.1: get all graphics and print them toghether to pdf? optional\n"
   ]
  },
  {
   "cell_type": "code",
   "execution_count": 18,
   "metadata": {},
   "outputs": [],
   "source": [
    "#histogram\n",
    "\n",
    "#frame_for_one.hist(column='MOPK')"
   ]
  },
  {
   "cell_type": "code",
   "execution_count": 19,
   "metadata": {},
   "outputs": [
    {
     "data": {
      "text/plain": [
       "array([[<matplotlib.axes._subplots.AxesSubplot object at 0x7fd85774fc18>]],\n",
       "      dtype=object)"
      ]
     },
     "execution_count": 19,
     "metadata": {},
     "output_type": "execute_result"
    },
    {
     "data": {
      "image/png": "[encoded data removed]",
      "text/plain": [
       "<Figure size 1440x216 with 1 Axes>"
      ]
     },
     "metadata": {
      "needs_background": "light"
     },
     "output_type": "display_data"
    }
   ],
   "source": [
    "frame_for_one.hist(column='MOPK_diff')"
   ]
  },
  {
   "cell_type": "code",
   "execution_count": 20,
   "metadata": {},
   "outputs": [],
   "source": [
    "# get for each day all the vegetables in season and show as graphic"
   ]
  },
  {
   "cell_type": "code",
   "execution_count": 21,
   "metadata": {},
   "outputs": [],
   "source": [
    "# get vegetables for a date\n",
    "# procesed_frame[(procesed_frame['fecha']=='2019-09-20') & (procesed_frame['in_season']==True)]['veg_name'].count()\n"
   ]
  },
  {
   "cell_type": "code",
   "execution_count": 24,
   "metadata": {},
   "outputs": [],
   "source": [
    "df_ = pd.DataFrame(index=['fecha'], columns=['fecha', 'vegetables'])\n",
    "#pd.Series(['X0', 'X1', 'X2', 'X3'], index=['A', 'B', 'C', 'D'])\n",
    "#IMPORTANT CHANGE, SET ALL AS A LIST OF LIST INSTEAD OF APPENDING.\n",
    "# https://stackoverflow.com/a/62734983/8997597\n",
    "#In [36]: result = df1.append(s2, ignore_index=True)\n",
    "fecha = '2019-{}-{}'\n",
    "for month in months.items():\n",
    "    for day in days:\n",
    "        vegetables = procesed_frame[(procesed_frame['fecha']==fecha.format(month[1],day)) & (procesed_frame['in_season']==True)]['veg_name']\n",
    "        my_serie = pd.Series([fecha.format(month[1],day), vegetables],index=['fecha', 'vegetables'])\n",
    "        df_.append(my_serie, ignore_index=True)\n",
    "        "
   ]
  },
  {
   "cell_type": "code",
   "execution_count": 23,
   "metadata": {},
   "outputs": [
    {
     "data": {
      "text/html": [
       "<div>\n",
       "<style scoped>\n",
       "    .dataframe tbody tr th:only-of-type {\n",
       "        vertical-align: middle;\n",
       "    }\n",
       "\n",
       "    .dataframe tbody tr th {\n",
       "        vertical-align: top;\n",
       "    }\n",
       "\n",
       "    .dataframe thead th {\n",
       "        text-align: right;\n",
       "    }\n",
       "</style>\n",
       "<table border=\"1\" class=\"dataframe\">\n",
       "  <thead>\n",
       "    <tr style=\"text-align: right;\">\n",
       "      <th></th>\n",
       "      <th>fecha</th>\n",
       "      <th>vegetables</th>\n",
       "    </tr>\n",
       "  </thead>\n",
       "  <tbody>\n",
       "    <tr>\n",
       "      <th>fecha</th>\n",
       "      <td>NaN</td>\n",
       "      <td>NaN</td>\n",
       "    </tr>\n",
       "  </tbody>\n",
       "</table>\n",
       "</div>"
      ],
      "text/plain": [
       "      fecha vegetables\n",
       "fecha   NaN        NaN"
      ]
     },
     "execution_count": 23,
     "metadata": {},
     "output_type": "execute_result"
    }
   ],
   "source": [
    "df_"
   ]
  },
  {
   "cell_type": "code",
   "execution_count": null,
   "metadata": {},
   "outputs": [],
   "source": []
  }
 ],
 "metadata": {
  "kernelspec": {
   "display_name": "Python 3",
   "language": "python",
   "name": "python3"
  },
  "language_info": {
   "codemirror_mode": {
    "name": "ipython",
    "version": 3
   },
   "file_extension": ".py",
   "mimetype": "text/x-python",
   "name": "python",
   "nbconvert_exporter": "python",
   "pygments_lexer": "ipython3",
   "version": "3.6.9"
  }
 },
 "nbformat": 4,
 "nbformat_minor": 4
}
